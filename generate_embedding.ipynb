{
 "cells": [
  {
   "cell_type": "code",
   "execution_count": null,
   "id": "d4c91353-c3a8-435e-813c-48a0cb771cd4",
   "metadata": {},
   "outputs": [],
   "source": [
    "# Import libraries\n",
    "import os\n",
    "from tqdm import tqdm\n",
    "import torch\n",
    "import chromadb\n",
    "from chromadb.config import Settings\n",
    "import pandas as pd\n",
    "from sentence_transformers import SentenceTransformer\n",
    "import numpy as np\n",
    "\n",
    "os.path.join(os.getcwd(), \"chroma_db\")"
   ]
  },
  {
   "cell_type": "code",
   "execution_count": null,
   "id": "e439f4ac-a01e-4706-8af0-1cbec0fe5e0b",
   "metadata": {},
   "outputs": [],
   "source": [
    "# Load the original CSV file\n",
    "df = pd.read_csv('recipes_ingredients.csv')\n",
    "print(df.head())"
   ]
  },
  {
   "cell_type": "code",
   "execution_count": null,
   "id": "0882fd6f-f743-4edf-9dc5-8b058a4478e5",
   "metadata": {},
   "outputs": [],
   "source": [
    "# define function to generate single descriptive text for each recipe\n",
    "def build_recipe_text(row):\n",
    "    return f\" Name: {row['title']} | Description: {row['description']} | Ingredients: {row['ingredients']}\""
   ]
  },
  {
   "cell_type": "code",
   "execution_count": null,
   "id": "c4f92864-3094-4a10-aa60-2f5aa53c707b",
   "metadata": {},
   "outputs": [],
   "source": [
    "# Apply function to data\n",
    "df['recipe_text'] = df.apply(build_recipe_text, axis=1)"
   ]
  },
  {
   "cell_type": "code",
   "execution_count": null,
   "id": "c1e74dcf-27d8-40c2-b3e1-83ccb56b36ae",
   "metadata": {},
   "outputs": [],
   "source": [
    "# Load model to GPU\n",
    "device = torch.device(\"cuda\" if torch.cuda.is_available() else \"cpu\")\n",
    "model = SentenceTransformer(\"all-MiniLM-L6-v2\").to(device)\n",
    "\n",
    "# Initialize Chroma\n",
    "chroma_client = chromadb.PersistentClient(path=\"chroma_db\")\n",
    "collection = chroma_client.get_or_create_collection(name=\"my_collection\")\n",
    "\n",
    "batch_size = 1024\n",
    "embeddings = []\n",
    "\n",
    "# Loop through all recipes in the batch\n",
    "for i in tqdm(range(0, len(recipe_texts), batch_size), desc=\"Embedding and uploading\"):\n",
    "    batch_texts = recipe_texts[i:i+batch_size]\n",
    "    batch_ids = ids[i:i+batch_size]\n",
    "    \n",
    "    # Encode recipe_text\n",
    "    batch_embeddings = model.encode(batch_texts, batch_size=batch_size, device=\"cuda\", show_progress_bar=False)\n",
    "\n",
    "    # Upload embedding to Chroma\n",
    "    collection.upsert(\n",
    "        documents=batch_texts,\n",
    "        embeddings=batch_embeddings,\n",
    "        ids=batch_ids\n",
    "    )"
   ]
  },
  {
   "cell_type": "code",
   "execution_count": null,
   "id": "981b0b0f-3a29-4611-a14d-a29434f073e5",
   "metadata": {},
   "outputs": [],
   "source": [
    "# define function to query the chroma collection for testing\n",
    "def query_chroma_collection(\n",
    "    query_texts,\n",
    "    collection_name=\"my_collection\",\n",
    "    chroma_path=\"chroma_db\",\n",
    "    n_results=20\n",
    "):\n",
    "    # Initialize persistent client\n",
    "    chroma_client = chromadb.PersistentClient(path=chroma_path)\n",
    "\n",
    "    # Get or create collection\n",
    "    collection = chroma_client.get_or_create_collection(name=collection_name)\n",
    "\n",
    "    # Query\n",
    "    results = collection.query(\n",
    "        query_texts=query_texts,\n",
    "        n_results=n_results\n",
    "    )\n",
    "    return [int(_) for _ in results['ids'][0]]\n",
    "    # return results\n"
   ]
  },
  {
   "cell_type": "code",
   "execution_count": null,
   "id": "d08d7f82-9fdd-47c6-a3d8-c132c2e7e38a",
   "metadata": {},
   "outputs": [],
   "source": [
    "# Example for quering chroma collection and viewing results\n",
    "results = query_chroma_collection(\n",
    "    query_texts=[\"Suggest me a dish with pizza and macroni\"],\n",
    "    collection_name=\"my_collection\",\n",
    "    chroma_path=\"chroma_db\",\n",
    "    n_results=25\n",
    ")\n",
    "\n",
    "print(results)"
   ]
  }
 ],
 "metadata": {
  "kernelspec": {
   "display_name": "Python 3 (ipykernel)",
   "language": "python",
   "name": "python3"
  },
  "language_info": {
   "codemirror_mode": {
    "name": "ipython",
    "version": 3
   },
   "file_extension": ".py",
   "mimetype": "text/x-python",
   "name": "python",
   "nbconvert_exporter": "python",
   "pygments_lexer": "ipython3",
   "version": "3.11.9"
  }
 },
 "nbformat": 4,
 "nbformat_minor": 5
}
