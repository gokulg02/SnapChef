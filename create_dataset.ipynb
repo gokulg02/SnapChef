{
 "cells": [
  {
   "cell_type": "code",
   "execution_count": null,
   "id": "95f23c19-486e-4389-afcf-b8db9405a03a",
   "metadata": {},
   "outputs": [],
   "source": [
    "# Import libraries\n",
    "import pandas as pd\n",
    "from sentence_transformers import SentenceTransformer\n",
    "import numpy as np\n",
    "import chromadb"
   ]
  },
  {
   "cell_type": "code",
   "execution_count": null,
   "id": "e1f92cf1-c4b0-45ac-848d-753e63237fa8",
   "metadata": {},
   "outputs": [],
   "source": [
    "# Load the original dataset\n",
    "df = pd.read_csv('recipes_ingredients.csv')\n",
    "print(df.head())"
   ]
  },
  {
   "cell_type": "code",
   "execution_count": null,
   "id": "7a923331-42ee-4ee8-99bf-a99823cfd4ac",
   "metadata": {},
   "outputs": [],
   "source": [
    "# Create id column to have a unique identifier for each recipe\n",
    "df['id'] = range(len(df))\n",
    "print(df.head())"
   ]
  },
  {
   "cell_type": "code",
   "execution_count": null,
   "id": "74e80dcd-8394-4274-ace3-2369ed3c7290",
   "metadata": {},
   "outputs": [],
   "source": [
    "# Save as a CSV\n",
    "df.to_csv('recipes.csv', index=False)"
   ]
  }
 ],
 "metadata": {
  "kernelspec": {
   "display_name": "Python 3 (ipykernel)",
   "language": "python",
   "name": "python3"
  },
  "language_info": {
   "codemirror_mode": {
    "name": "ipython",
    "version": 3
   },
   "file_extension": ".py",
   "mimetype": "text/x-python",
   "name": "python",
   "nbconvert_exporter": "python",
   "pygments_lexer": "ipython3",
   "version": "3.11.9"
  }
 },
 "nbformat": 4,
 "nbformat_minor": 5
}
